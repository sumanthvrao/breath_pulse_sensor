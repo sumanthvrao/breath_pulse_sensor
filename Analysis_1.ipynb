{
 "cells": [
  {
   "cell_type": "code",
   "execution_count": 11,
   "metadata": {},
   "outputs": [
    {
     "name": "stdout",
     "output_type": "stream",
     "text": [
      "                     datetime  bpm   period\n",
      "0     2018-05-03 06:14:29.968   93  morning\n",
      "1     2018-05-03 06:14:30.967   93  morning\n",
      "2     2018-05-03 06:14:30.969   90  morning\n",
      "3     2018-05-03 06:14:30.970   90  morning\n",
      "4     2018-05-03 06:14:31.471   93  morning\n",
      "5     2018-05-03 06:14:31.770   93  morning\n",
      "6     2018-05-03 06:14:32.073   95  morning\n",
      "7     2018-05-03 06:14:32.372   99  morning\n",
      "8     2018-05-03 06:14:32.671   99  morning\n",
      "9     2018-05-03 06:14:46.790   91  morning\n",
      "10    2018-05-03 06:14:47.089   91  morning\n",
      "11    2018-05-03 06:14:47.691   91  morning\n",
      "12    2018-05-03 06:14:47.990   80  morning\n",
      "13    2018-05-03 06:14:48.293   80  morning\n",
      "14    2018-05-03 06:14:48.592   80  morning\n",
      "15    2018-05-03 06:14:48.891    8  morning\n",
      "16    2018-05-03 06:14:49.194   80  morning\n",
      "17    2018-05-03 06:14:49.494   80  morning\n",
      "18    2018-05-03 06:14:49.797   80  morning\n",
      "19    2018-05-03 06:14:50.096   80  morning\n",
      "20    2018-05-03 06:14:50.395   80  morning\n",
      "21    2018-05-03 06:14:50.698   80  morning\n",
      "22    2018-05-03 06:14:50.997   80  morning\n",
      "23    2018-05-03 06:14:51.599   96  morning\n",
      "24    2018-05-03 06:14:51.898   96  morning\n",
      "25    2018-05-03 06:14:59.709   94  morning\n",
      "26    2018-05-03 06:15:00.008   92  morning\n",
      "27    2018-05-03 06:15:00.610   92  morning\n",
      "28    2018-05-03 06:15:00.909   93  morning\n",
      "29    2018-05-03 06:15:01.212   93  morning\n",
      "...                       ...  ...      ...\n",
      "1828  2018-05-03 19:55:20.564   89    night\n",
      "1829  2018-05-03 19:55:20.662   89    night\n",
      "1830  2018-05-03 19:55:20.764   89    night\n",
      "1831  2018-05-03 19:55:20.863   89    night\n",
      "1832  2018-05-03 19:55:20.965   76    night\n",
      "1833  2018-05-03 19:55:21.063   76    night\n",
      "1834  2018-05-03 19:55:21.166   76    night\n",
      "1835  2018-05-03 19:55:21.264   76    night\n",
      "1836  2018-05-03 19:55:21.367   76    night\n",
      "1837  2018-05-03 19:55:21.465   76    night\n",
      "1838  2018-05-03 19:55:21.568   76    night\n",
      "1839  2018-05-03 19:55:21.666   76    night\n",
      "1840  2018-05-03 19:55:21.768   76    night\n",
      "1841  2018-05-03 19:55:21.866   74    night\n",
      "1842  2018-05-03 19:55:21.969   74    night\n",
      "1843  2018-05-03 19:55:22.067   74    night\n",
      "1844  2018-05-03 19:55:22.169   74    night\n",
      "1845  2018-05-03 19:55:22.268   74    night\n",
      "1846  2018-05-03 19:55:22.370   75    night\n",
      "1847  2018-05-03 19:55:22.468   75    night\n",
      "1848  2018-05-03 19:55:22.669   75    night\n",
      "1849  2018-05-03 19:55:22.771   75    night\n",
      "1850  2018-05-03 19:55:22.870   75    night\n",
      "1851  2018-05-03 19:55:23.070   75    night\n",
      "1852  2018-05-03 19:55:23.271   78    night\n",
      "1853  2018-05-03 19:55:23.472   81    night\n",
      "1854  2018-05-03 19:55:23.673   81    night\n",
      "1855  2018-05-03 19:55:23.873   82    night\n",
      "1856  2018-05-03 19:55:24.074  102    night\n",
      "1857  2018-05-03 19:55:24.275  102    night\n",
      "\n",
      "[1858 rows x 3 columns]\n"
     ]
    }
   ],
   "source": [
    "%matplotlib inline\n",
    "import pandas as pd\n",
    "import numpy as np\n",
    "import seaborn as sns\n",
    "import matplotlib.pyplot as plt\n",
    "\n",
    "ds = pd.read_csv('HeartRate.csv')\n",
    "print(ds)"
   ]
  },
  {
   "cell_type": "code",
   "execution_count": 40,
   "metadata": {},
   "outputs": [
    {
     "data": {
      "image/png": "[encoded data removed]",
      "text/plain": [
       "<matplotlib.figure.Figure at 0x10b5f2b0>"
      ]
     },
     "metadata": {},
     "output_type": "display_data"
    },
    {
     "name": "stdout",
     "output_type": "stream",
     "text": [
      "\n",
      "\n",
      "\n",
      "We see that the median heart beat rates are:\n",
      "Morning:          89.5\n",
      "After Breakfast:  99.0\n",
      "Before Lunch:     91.0\n",
      "After Lunch:      73.0\n",
      "After jogging:    101.0\n",
      "Night:            91.0\n",
      "\n",
      "NOTE:\n",
      "Median is chosen as the measure of central tendency\n",
      "as mean can give misleading values in the presence of outliers\n"
     ]
    }
   ],
   "source": [
    "#Box plot is the best for understanding and getting the first idea about the data.\n",
    "\n",
    "plt.figure(figsize = (15,5))\n",
    "sns.boxplot(data=ds, x=\"period\", y=\"bpm\")\n",
    "plt.xlabel(\"Time Of The Day\")\n",
    "plt.ylabel(\"BPM\")\n",
    "plt.title(\"Variation Of BPM throughout the day\")\n",
    "plt.show()\n",
    "\n",
    "print(\"\\n\\n\")\n",
    "print(\"We see that the median heart beat rates are:\")\n",
    "\n",
    "x = ds[ds['period']=='morning']\n",
    "print(\"Morning:         \",np.median(x.bpm))\n",
    "\n",
    "x = ds[ds['period']=='after breakfast']\n",
    "print(\"After Breakfast: \",np.median(x.bpm))\n",
    "\n",
    "x = ds[ds['period']=='before lunch']\n",
    "print(\"Before Lunch:    \",np.median(x.bpm))\n",
    "\n",
    "x = ds[ds['period']=='after lunch']\n",
    "print(\"After Lunch:     \",np.median(x.bpm))\n",
    "\n",
    "x = ds[ds['period']=='after jogging']\n",
    "print(\"After jogging:   \",np.median(x.bpm))\n",
    "\n",
    "x = ds[ds['period']=='night']\n",
    "print(\"Night:           \",np.median(x.bpm))\n",
    "\n",
    "print(\"\\nNOTE:\\nMedian is chosen as the measure of central tendency\\\n",
    "\\nas mean can give misleading values in the presence of outliers\")"
   ]
  },
  {
   "cell_type": "code",
   "execution_count": 45,
   "metadata": {},
   "outputs": [
    {
     "name": "stdout",
     "output_type": "stream",
     "text": [
      "\n"
     ]
    },
    {
     "data": {
      "image/png": "[encoded data removed]",
      "text/plain": [
       "<matplotlib.figure.Figure at 0xb9950f0>"
      ]
     },
     "metadata": {},
     "output_type": "display_data"
    },
    {
     "name": "stdout",
     "output_type": "stream",
     "text": [
      "The above plots along with the boxplot help us see the distribution of the outliers.\n",
      "The outliers in the dataset are existant mainly due to sligth equipment imperfections\n",
      "and mis-alignment of sensor during general body movement.\n",
      "\n",
      "NOTE:\n",
      "The various heights of the histograms indicate to us that measurments taken are not\n",
      "equal in number for all the different periods of the day.\n",
      "\n"
     ]
    }
   ],
   "source": [
    "#Just to see distribution.\n",
    "\n",
    "print()\n",
    "\n",
    "grid = sns.FacetGrid(ds, col='period')\n",
    "grid.map(plt.hist, 'bpm')\n",
    "plt.show()\n",
    "\n",
    "\n",
    "print(\"The above plots along with the boxplot help us see the distribution of the outliers.\")\n",
    "print(\"The outliers in the dataset are existant mainly due to sligth equipment imperfections\\\n",
    "\\nand mis-alignment of sensor during general body movement.\")\n",
    "\n",
    "print(\"\\nNOTE:\")\n",
    "print(\"The various heights of the histograms indicate to us that measurments taken are not\\\n",
    "\\nequal in number for all the different periods of the day.\")\n",
    "print()"
   ]
  },
  {
   "cell_type": "code",
   "execution_count": 50,
   "metadata": {},
   "outputs": [
    {
     "name": "stdout",
     "output_type": "stream",
     "text": [
      "                     datetime  bpm   period\n",
      "0     2018-05-03 06:14:29.968   93  morning\n",
      "1     2018-05-03 06:14:30.967   93  morning\n",
      "2     2018-05-03 06:14:30.969   90  morning\n",
      "3     2018-05-03 06:14:30.970   90  morning\n",
      "4     2018-05-03 06:14:31.471   93  morning\n",
      "5     2018-05-03 06:14:31.770   93  morning\n",
      "6     2018-05-03 06:14:32.073   95  morning\n",
      "7     2018-05-03 06:14:32.372   99  morning\n",
      "8     2018-05-03 06:14:32.671   99  morning\n",
      "9     2018-05-03 06:14:46.790   91  morning\n",
      "10    2018-05-03 06:14:47.089   91  morning\n",
      "11    2018-05-03 06:14:47.691   91  morning\n",
      "12    2018-05-03 06:14:47.990   80  morning\n",
      "13    2018-05-03 06:14:48.293   80  morning\n",
      "14    2018-05-03 06:14:48.592   80  morning\n",
      "16    2018-05-03 06:14:49.194   80  morning\n",
      "17    2018-05-03 06:14:49.494   80  morning\n",
      "18    2018-05-03 06:14:49.797   80  morning\n",
      "19    2018-05-03 06:14:50.096   80  morning\n",
      "20    2018-05-03 06:14:50.395   80  morning\n",
      "21    2018-05-03 06:14:50.698   80  morning\n",
      "22    2018-05-03 06:14:50.997   80  morning\n",
      "23    2018-05-03 06:14:51.599   96  morning\n",
      "24    2018-05-03 06:14:51.898   96  morning\n",
      "25    2018-05-03 06:14:59.709   94  morning\n",
      "26    2018-05-03 06:15:00.008   92  morning\n",
      "27    2018-05-03 06:15:00.610   92  morning\n",
      "28    2018-05-03 06:15:00.909   93  morning\n",
      "29    2018-05-03 06:15:01.212   93  morning\n",
      "30    2018-05-03 06:15:01.511   93  morning\n",
      "...                       ...  ...      ...\n",
      "1828  2018-05-03 19:55:20.564   89    night\n",
      "1829  2018-05-03 19:55:20.662   89    night\n",
      "1830  2018-05-03 19:55:20.764   89    night\n",
      "1831  2018-05-03 19:55:20.863   89    night\n",
      "1832  2018-05-03 19:55:20.965   76    night\n",
      "1833  2018-05-03 19:55:21.063   76    night\n",
      "1834  2018-05-03 19:55:21.166   76    night\n",
      "1835  2018-05-03 19:55:21.264   76    night\n",
      "1836  2018-05-03 19:55:21.367   76    night\n",
      "1837  2018-05-03 19:55:21.465   76    night\n",
      "1838  2018-05-03 19:55:21.568   76    night\n",
      "1839  2018-05-03 19:55:21.666   76    night\n",
      "1840  2018-05-03 19:55:21.768   76    night\n",
      "1841  2018-05-03 19:55:21.866   74    night\n",
      "1842  2018-05-03 19:55:21.969   74    night\n",
      "1843  2018-05-03 19:55:22.067   74    night\n",
      "1844  2018-05-03 19:55:22.169   74    night\n",
      "1845  2018-05-03 19:55:22.268   74    night\n",
      "1846  2018-05-03 19:55:22.370   75    night\n",
      "1847  2018-05-03 19:55:22.468   75    night\n",
      "1848  2018-05-03 19:55:22.669   75    night\n",
      "1849  2018-05-03 19:55:22.771   75    night\n",
      "1850  2018-05-03 19:55:22.870   75    night\n",
      "1851  2018-05-03 19:55:23.070   75    night\n",
      "1852  2018-05-03 19:55:23.271   78    night\n",
      "1853  2018-05-03 19:55:23.472   81    night\n",
      "1854  2018-05-03 19:55:23.673   81    night\n",
      "1855  2018-05-03 19:55:23.873   82    night\n",
      "1856  2018-05-03 19:55:24.074  102    night\n",
      "1857  2018-05-03 19:55:24.275  102    night\n",
      "\n",
      "[1793 rows x 3 columns]\n",
      "Number of rows:      1793\n",
      "Number of outliers:  65\n"
     ]
    },
    {
     "data": {
      "image/png": "[encoded data removed]",
      "text/plain": [
       "<matplotlib.figure.Figure at 0xdeebd30>"
      ]
     },
     "metadata": {},
     "output_type": "display_data"
    },
    {
     "name": "stdout",
     "output_type": "stream",
     "text": [
      "This is a good way to visualize the data after removing the outliers present.\n",
      "Here we take mean into account as there arent any outliers to affect its accuracy.\n"
     ]
    }
   ],
   "source": [
    "#Visulizing Mean of cleaned dataset.\n",
    "\n",
    "cleaned = ds[ds['bpm'] > 20]\n",
    "print(cleaned)\n",
    "print(\"Number of rows:     \", len(cleaned))\n",
    "print(\"Number of outliers: \", len(ds) - len(cleaned))\n",
    "\n",
    "plt.figure(figsize = (15,5))\n",
    "sns.barplot(data = cleaned, x='period', y='bpm', ci = 0)\n",
    "plt.show()\n",
    "\n",
    "print(\"This is a good way to visualize the data after removing the outliers present.\")\n",
    "print(\"Here we take mean into account as there arent any outliers to affect its accuracy.\")"
   ]
  },
  {
   "cell_type": "code",
   "execution_count": 57,
   "metadata": {},
   "outputs": [
    {
     "name": "stdout",
     "output_type": "stream",
     "text": [
      "Understanding the impact of choosing wrong central tendency:\n",
      "\n",
      "Morning.\n",
      "Uncleaned:\n",
      "Median of measurements  :            89.5\n",
      "Mean of measurements    :            84.48148148148148\n",
      "cleaned\n",
      "Median of measurements  :            90.0\n",
      "Mean of measurements    :            87.92903225806451\n",
      "\n",
      "After Breakfast.\n",
      "Uncleaned:\n",
      "Median of measurements  :            99.0\n",
      "Mean of measurements    :            95.9074074074074\n",
      "cleaned\n",
      "Median of measurements  :            99.0\n",
      "Mean of measurements    :            99.00574712643679\n",
      "\n",
      "Before Lunch.\n",
      "Uncleaned:\n",
      "Median of measurements  :            91.0\n",
      "Mean of measurements    :            86.74418604651163\n",
      "cleaned\n",
      "Median of measurements  :            91.0\n",
      "Mean of measurements    :            89.4423076923077\n",
      "\n",
      "After Lunch.\n",
      "Uncleaned:\n",
      "Median of measurements  :            73.0\n",
      "Mean of measurements    :            77.47911547911548\n",
      "cleaned\n",
      "Median of measurements  :            75.0\n",
      "Mean of measurements    :            79.27455919395466\n",
      "\n",
      "After Jogging.\n",
      "Uncleaned:\n",
      "Median of measurements  :            101.0\n",
      "Mean of measurements    :            95.93723849372385\n",
      "cleaned\n",
      "Median of measurements  :            101.0\n",
      "Mean of measurements    :            99.42173913043479\n",
      "\n",
      "Night.\n",
      "Uncleaned:\n",
      "Median of measurements  :            91.0\n",
      "Mean of measurements    :            88.47457627118644\n",
      "cleaned\n",
      "Median of measurements  :            93.0\n",
      "Mean of measurements    :            92.58362989323844\n",
      "\n",
      "\n",
      "Thus we see that median of uncleaned is closer to the mean of the cleaned data points.\n"
     ]
    }
   ],
   "source": [
    "#Just a comparsion between median of uncleaned data and mean of cleaned.\n",
    "\n",
    "print(\"Understanding the impact of choosing wrong central tendency:\\n\")\n",
    "\n",
    "#Morning\n",
    "print(\"Morning.\")\n",
    "print(\"Uncleaned:\")\n",
    "x = ds[ds['period']=='morning']\n",
    "print(\"Median of measurements  :           \",np.median(x.bpm))\n",
    "print(\"Mean of measurements    :           \",np.mean(x.bpm))\n",
    "\n",
    "print(\"cleaned\")\n",
    "y = cleaned[cleaned['period']=='morning']\n",
    "print(\"Median of measurements  :           \",np.median(y.bpm))\n",
    "print(\"Mean of measurements    :           \",np.mean(y.bpm))\n",
    "print()\n",
    "\n",
    "\n",
    "#After Breakfast\n",
    "print(\"After Breakfast.\")\n",
    "print(\"Uncleaned:\")\n",
    "x = ds[ds['period']=='after breakfast']\n",
    "print(\"Median of measurements  :           \",np.median(x.bpm))\n",
    "print(\"Mean of measurements    :           \",np.mean(x.bpm))\n",
    "\n",
    "print(\"cleaned\")\n",
    "y = cleaned[cleaned['period']=='after breakfast']\n",
    "print(\"Median of measurements  :           \",np.median(y.bpm))\n",
    "print(\"Mean of measurements    :           \",np.mean(y.bpm))\n",
    "print()\n",
    "\n",
    "\n",
    "#Before Lunch\n",
    "print(\"Before Lunch.\")\n",
    "print(\"Uncleaned:\")\n",
    "x = ds[ds['period']=='before lunch']\n",
    "print(\"Median of measurements  :           \",np.median(x.bpm))\n",
    "print(\"Mean of measurements    :           \",np.mean(x.bpm))\n",
    "\n",
    "print(\"cleaned\")\n",
    "y = cleaned[cleaned['period']=='before lunch']\n",
    "print(\"Median of measurements  :           \",np.median(y.bpm))\n",
    "print(\"Mean of measurements    :           \",np.mean(y.bpm))\n",
    "print()\n",
    "\n",
    "\n",
    "#After Lunch\n",
    "print(\"After Lunch.\")\n",
    "print(\"Uncleaned:\")\n",
    "x = ds[ds['period']=='after lunch']\n",
    "print(\"Median of measurements  :           \",np.median(x.bpm))\n",
    "print(\"Mean of measurements    :           \",np.mean(x.bpm))\n",
    "\n",
    "print(\"cleaned\")\n",
    "y = cleaned[cleaned['period']=='after lunch']\n",
    "print(\"Median of measurements  :           \",np.median(y.bpm))\n",
    "print(\"Mean of measurements    :           \",np.mean(y.bpm))\n",
    "print()\n",
    "\n",
    "\n",
    "#After Jogging\n",
    "print(\"After Jogging.\")\n",
    "print(\"Uncleaned:\")\n",
    "x = ds[ds['period']=='after jogging']\n",
    "print(\"Median of measurements  :           \",np.median(x.bpm))\n",
    "print(\"Mean of measurements    :           \",np.mean(x.bpm))\n",
    "\n",
    "print(\"cleaned\")\n",
    "y = cleaned[cleaned['period']=='after jogging']\n",
    "print(\"Median of measurements  :           \",np.median(y.bpm))\n",
    "print(\"Mean of measurements    :           \",np.mean(y.bpm))\n",
    "print()\n",
    "\n",
    "\n",
    "#Night\n",
    "print(\"Night.\")\n",
    "print(\"Uncleaned:\")\n",
    "x = ds[ds['period']=='night']\n",
    "print(\"Median of measurements  :           \",np.median(x.bpm))\n",
    "print(\"Mean of measurements    :           \",np.mean(x.bpm))\n",
    "\n",
    "print(\"cleaned\")\n",
    "y = cleaned[cleaned['period']=='night']\n",
    "print(\"Median of measurements  :           \",np.median(y.bpm))\n",
    "print(\"Mean of measurements    :           \",np.mean(y.bpm))\n",
    "print()\n",
    "\n",
    "print(\"\\nThus we see that median of uncleaned is closer to the mean of the cleaned data points.\")"
   ]
  },
  {
   "cell_type": "code",
   "execution_count": 64,
   "metadata": {},
   "outputs": [
    {
     "name": "stdout",
     "output_type": "stream",
     "text": [
      "[2.1463414634146343, 2.0136986301369864, 2.24, 1.5789473684210527, 1.3780487804878048, 1.7951807228915662]\n",
      "[2.525, 0.9743589743589743, 2.30188679245283, 1.236842105263158, 0.4367816091954023, 1.0481927710843373]\n"
     ]
    }
   ],
   "source": [
    "breaths = pd.read_csv('BreathTime.csv')\n",
    "\n",
    "breaths['datetime'] = pd.to_datetime(breaths.datetime)\n",
    "\n",
    "exhaleavg = [0,0,0,0,0,0]\n",
    "inhaleavg = [0,0,0,0,0,0]\n",
    "periodctr = 0\n",
    "exctr = 0\n",
    "inctr = 0\n",
    "\n",
    "for i in range(len(breaths)-1):\n",
    "    if breaths['period'][i] == breaths['period'][i+1]:\n",
    "        diff = breaths['datetime'][i+1]-breaths['datetime'][i]\n",
    "        diff = diff.seconds\n",
    "        if breaths['type'][i]=='IN' and breaths['type'][i+1]=='OUT' and diff<10:\n",
    "            inhaleavg[periodctr]+=diff\n",
    "            inctr+=1\n",
    "        elif breaths['type'][i+1]=='IN' and breaths['type'][i]=='OUT' and diff<10:\n",
    "            exhaleavg[periodctr]+=diff\n",
    "            exctr+=1\n",
    "    else:\n",
    "        exhaleavg[periodctr]/=exctr\n",
    "        inhaleavg[periodctr]/=inctr\n",
    "        exctr=0\n",
    "        inctr=0\n",
    "        periodctr+=1\n",
    "\n",
    "exhaleavg[periodctr]/=exctr\n",
    "inhaleavg[periodctr]/=inctr\n",
    "print(exhaleavg)\n",
    "print(inhaleavg)"
   ]
  },
  {
   "cell_type": "code",
   "execution_count": 73,
   "metadata": {},
   "outputs": [
    {
     "name": "stdout",
     "output_type": "stream",
     "text": [
      "[ 87.92903226  99.00574713  89.44230769  79.27455919  99.42173913\n",
      "  92.58362989]\n"
     ]
    },
    {
     "data": {
      "image/png": "[encoded data removed]",
      "text/plain": [
       "<matplotlib.figure.Figure at 0x108752b0>"
      ]
     },
     "metadata": {},
     "output_type": "display_data"
    },
    {
     "name": "stdout",
     "output_type": "stream",
     "text": [
      "We can see that the is a positive correlation between two.(As Expected)\n",
      "\n"
     ]
    },
    {
     "data": {
      "image/png": "[encoded data removed]",
      "text/plain": [
       "<matplotlib.figure.Figure at 0xd988b70>"
      ]
     },
     "metadata": {},
     "output_type": "display_data"
    },
    {
     "data": {
      "image/png": "[encoded data removed]",
      "text/plain": [
       "<matplotlib.figure.Figure at 0xf00e588>"
      ]
     },
     "metadata": {},
     "output_type": "display_data"
    },
    {
     "name": "stdout",
     "output_type": "stream",
     "text": [
      "From the graphs it is very evident that as the breathing time decreases, the heart rate increases.\n",
      "Biologically we see this happening in our every day lives.\n",
      "If we are working ourselves our heartrate increases and also the breathing time decreases.\n",
      "Also we see that animals that are physically small have a high BPM value and their breathing is also fast!!\n",
      "\n",
      "\n",
      "\n",
      "Hence we see that results obtained are in consistance with the real life scenario!\n",
      "To clearly get an idea of the graphs:\n",
      "I replot by excluding the faulty reading.\n"
     ]
    },
    {
     "data": {
      "image/png": "[encoded data removed]",
      "text/plain": [
       "<matplotlib.figure.Figure at 0x10575be0>"
      ]
     },
     "metadata": {},
     "output_type": "display_data"
    },
    {
     "data": {
      "image/png": "[encoded data removed]",
      "text/plain": [
       "<matplotlib.figure.Figure at 0xdcd7ba8>"
      ]
     },
     "metadata": {},
     "output_type": "display_data"
    }
   ],
   "source": [
    "#Understanding Inhale/ Exhale Time relation with BPM\n",
    "\n",
    "h1 = np.mean(cleaned[cleaned['period']=='morning'])\n",
    "h2 = np.mean(cleaned[cleaned['period']=='after breakfast'])\n",
    "h3 = np.mean(cleaned[cleaned['period']=='before lunch'])\n",
    "h4 = np.mean(cleaned[cleaned['period']=='after lunch'])\n",
    "h5 = np.mean(cleaned[cleaned['period']=='after jogging'])\n",
    "h6 = np.mean(cleaned[cleaned['period']=='night'])\n",
    "\n",
    "bpm = np.array([h1[0], h2[0], h3[0], h4[0], h5[0], h6[0]])\n",
    "print(bpm)\n",
    "\n",
    "#PLOTS\n",
    "\n",
    "plt.scatter(inhaleavg, exhaleavg)\n",
    "plt.xlabel(\"AVG Inhale Time\")\n",
    "plt.ylabel(\"AVG Exhale Time\")\n",
    "plt.title(\"Inhale vs Exhale\")\n",
    "plt.show()\n",
    "print(\"We can see that the is a positive correlation between two.(As Expected)\\n\")\n",
    "\n",
    "plt.scatter(exhaleavg, bpm)\n",
    "plt.xlabel(\"AVG Exhale Time\")\n",
    "plt.ylabel(\"BPM\")\n",
    "plt.title(\"Exhale vs BPM\")\n",
    "plt.show()\n",
    "\n",
    "plt.scatter(inhaleavg, bpm)\n",
    "plt.xlabel(\"AVG Inhale Time\")\n",
    "plt.ylabel(\"BPM\")\n",
    "plt.title(\"Inhale vs BPM\")\n",
    "plt.show()\n",
    "\n",
    "\n",
    "print(\"From the graphs it is very evident that as the breathing time decreases, the heart rate increases.\")\n",
    "print(\"Biologically we see this happening in our every day lives.\")\n",
    "print(\"If we are working ourselves our heartrate increases and also the breathing time decreases.\")\n",
    "print(\"Also we see that animals that are physically small have a high BPM value and their breathing is also fast!!\")\n",
    "\n",
    "print(\"\\n\\n\")\n",
    "print(\"Hence we see that results obtained are in consistance with the real life scenario!\")\n",
    "\n",
    "print(\"To clearly get an idea of the graphs:\\nI replot by excluding the faulty reading.\")\n",
    "\n",
    "bpm1 = [h1[0], h2[0], h3[0], h5[0], h6[0]]\n",
    "exhale = [exhaleavg[0],exhaleavg[1],exhaleavg[2],exhaleavg[4],exhaleavg[5]]\n",
    "inhale = [inhaleavg[0],inhaleavg[1],inhaleavg[2],inhaleavg[4],inhaleavg[5]]\n",
    "\n",
    "plt.scatter(exhale, bpm1)\n",
    "plt.xlabel(\"AVG Exhale Time\")\n",
    "plt.ylabel(\"BPM\")\n",
    "plt.title(\"Exhale vs BPM\")\n",
    "plt.show()\n",
    "\n",
    "plt.scatter(inhale, bpm1)\n",
    "plt.xlabel(\"AVG Inhale Time\")\n",
    "plt.ylabel(\"BPM\")\n",
    "plt.title(\"Inhale vs BPM\")\n",
    "plt.show()"
   ]
  },
  {
   "cell_type": "code",
   "execution_count": null,
   "metadata": {
    "collapsed": true
   },
   "outputs": [],
   "source": []
  }
 ],
 "metadata": {
  "kernelspec": {
   "display_name": "Python [default]",
   "language": "python",
   "name": "python3"
  },
  "language_info": {
   "codemirror_mode": {
    "name": "ipython",
    "version": 3
   },
   "file_extension": ".py",
   "mimetype": "text/x-python",
   "name": "python",
   "nbconvert_exporter": "python",
   "pygments_lexer": "ipython3",
   "version": "3.5.3"
  }
 },
 "nbformat": 4,
 "nbformat_minor": 2
}
